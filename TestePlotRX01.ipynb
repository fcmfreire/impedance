{
  "nbformat": 4,
  "nbformat_minor": 0,
  "metadata": {
    "colab": {
      "name": "TestePlotRX01.ipynb",
      "provenance": [],
      "mount_file_id": "1vplb_J7rwUGO3JmJg32IM1sQuO6ZBnAd",
      "authorship_tag": "ABX9TyPq2WIzwHAAGs0QO0OVvG7E",
      "include_colab_link": true
    },
    "kernelspec": {
      "name": "python3",
      "display_name": "Python 3"
    },
    "language_info": {
      "name": "python"
    }
  },
  "cells": [
    {
      "cell_type": "markdown",
      "metadata": {
        "id": "view-in-github",
        "colab_type": "text"
      },
      "source": [
        "<a href=\"https://colab.research.google.com/github/fcmfreire/impedance/blob/main/TestePlotRX01.ipynb\" target=\"_parent\"><img src=\"https://colab.research.google.com/assets/colab-badge.svg\" alt=\"Open In Colab\"/></a>"
      ]
    },
    {
      "cell_type": "code",
      "metadata": {
        "id": "VwYNtWLZBTEK"
      },
      "source": [
        "import pandas as pd\n",
        "import numpy as np\n",
        "from matplotlib import pyplot as plt"
      ],
      "execution_count": 11,
      "outputs": []
    },
    {
      "cell_type": "code",
      "metadata": {
        "id": "SWtldtwMEktW"
      },
      "source": [
        "data = np.genfromtxt(\"/content/drive/MyDrive/UEM2021/Python/Teste/MedidasH2O.txt\", delimiter=\"\\t\")"
      ],
      "execution_count": 12,
      "outputs": []
    },
    {
      "cell_type": "code",
      "metadata": {
        "colab": {
          "base_uri": "https://localhost:8080/",
          "height": 333
        },
        "id": "me-GdNyZFSly",
        "outputId": "91672a15-064e-409a-889b-9cfe2d1d6a97"
      },
      "source": [
        "x = data[:,0]\n",
        "y = data[:,1]\n",
        "z = data[:,2]\n",
        "\n",
        "## FAZENDO O PLOT DOS DADOS \n",
        "freq = np.log10(x)\n",
        "R = np.log10(y)\n",
        "X = np.log10(np.absolute(z))\n",
        "\n",
        "#plt.plot(freq,z)\n",
        "plt.plot(freq,R,'ro') # ou plt.loglog(x,y)\n",
        "plt.plot(freq,X,'bo')\n",
        "plt.xlabel(\"log(Frequency [Hz])\")\n",
        "plt.ylabel(\"Z' and Z''\")\n",
        "plt.legend([\"Re(Z)\", \"Im(Z)\"], loc='upper right')\n",
        "plt.show()"
      ],
      "execution_count": 13,
      "outputs": [
        {
          "output_type": "stream",
          "text": [
            "/usr/local/lib/python3.7/dist-packages/ipykernel_launcher.py:7: RuntimeWarning: invalid value encountered in log10\n",
            "  import sys\n"
          ],
          "name": "stderr"
        },
        {
          "output_type": "display_data",
          "data": {
            "image/png": "[encoded data removed]",
            "text/plain": [
              "<Figure size 432x288 with 1 Axes>"
            ]
          },
          "metadata": {
            "tags": [],
            "needs_background": "light"
          }
        }
      ]
    }
  ]
}